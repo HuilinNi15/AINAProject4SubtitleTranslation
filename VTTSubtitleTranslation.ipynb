{
  "nbformat": 4,
  "nbformat_minor": 0,
  "metadata": {
    "colab": {
      "provenance": [],
      "gpuType": "T4"
    },
    "kernelspec": {
      "name": "python3",
      "display_name": "Python 3"
    },
    "language_info": {
      "name": "python"
    },
    "accelerator": "GPU",
    "widgets": {
      "application/vnd.jupyter.widget-state+json": {
        "a57c7889d3b64a54ad4ca279fa0c7b61": {
          "model_module": "@jupyter-widgets/controls",
          "model_name": "HBoxModel",
          "model_module_version": "1.5.0",
          "state": {
            "_dom_classes": [],
            "_model_module": "@jupyter-widgets/controls",
            "_model_module_version": "1.5.0",
            "_model_name": "HBoxModel",
            "_view_count": null,
            "_view_module": "@jupyter-widgets/controls",
            "_view_module_version": "1.5.0",
            "_view_name": "HBoxView",
            "box_style": "",
            "children": [
              "IPY_MODEL_48c2363a9a604514aa5f7e945c5644c2",
              "IPY_MODEL_f82903a39a74459296828227d399accf",
              "IPY_MODEL_7a02a7891c8646b2afb836ab488ac77d"
            ],
            "layout": "IPY_MODEL_2cd4ffd82641489594467a8ea51f9212"
          }
        },
        "48c2363a9a604514aa5f7e945c5644c2": {
          "model_module": "@jupyter-widgets/controls",
          "model_name": "HTMLModel",
          "model_module_version": "1.5.0",
          "state": {
            "_dom_classes": [],
            "_model_module": "@jupyter-widgets/controls",
            "_model_module_version": "1.5.0",
            "_model_name": "HTMLModel",
            "_view_count": null,
            "_view_module": "@jupyter-widgets/controls",
            "_view_module_version": "1.5.0",
            "_view_name": "HTMLView",
            "description": "",
            "description_tooltip": null,
            "layout": "IPY_MODEL_4b06ac79e6234c3187e3e135f3e33fb1",
            "placeholder": "​",
            "style": "IPY_MODEL_2aa4d498af0444eab46cc0a02b88b5e4",
            "value": "Fetching 5 files: 100%"
          }
        },
        "f82903a39a74459296828227d399accf": {
          "model_module": "@jupyter-widgets/controls",
          "model_name": "FloatProgressModel",
          "model_module_version": "1.5.0",
          "state": {
            "_dom_classes": [],
            "_model_module": "@jupyter-widgets/controls",
            "_model_module_version": "1.5.0",
            "_model_name": "FloatProgressModel",
            "_view_count": null,
            "_view_module": "@jupyter-widgets/controls",
            "_view_module_version": "1.5.0",
            "_view_name": "ProgressView",
            "bar_style": "success",
            "description": "",
            "description_tooltip": null,
            "layout": "IPY_MODEL_14d0fefca3184dd38b1fe3f07f233f2c",
            "max": 5,
            "min": 0,
            "orientation": "horizontal",
            "style": "IPY_MODEL_91031f7cf5184bc0bca70000c4ed7b79",
            "value": 5
          }
        },
        "7a02a7891c8646b2afb836ab488ac77d": {
          "model_module": "@jupyter-widgets/controls",
          "model_name": "HTMLModel",
          "model_module_version": "1.5.0",
          "state": {
            "_dom_classes": [],
            "_model_module": "@jupyter-widgets/controls",
            "_model_module_version": "1.5.0",
            "_model_name": "HTMLModel",
            "_view_count": null,
            "_view_module": "@jupyter-widgets/controls",
            "_view_module_version": "1.5.0",
            "_view_name": "HTMLView",
            "description": "",
            "description_tooltip": null,
            "layout": "IPY_MODEL_8c9502cb413f415f9288e2911dda1f7b",
            "placeholder": "​",
            "style": "IPY_MODEL_94d7951fd00e4e89a94f290d39aef035",
            "value": " 5/5 [00:00&lt;00:00, 213.24it/s]"
          }
        },
        "2cd4ffd82641489594467a8ea51f9212": {
          "model_module": "@jupyter-widgets/base",
          "model_name": "LayoutModel",
          "model_module_version": "1.2.0",
          "state": {
            "_model_module": "@jupyter-widgets/base",
            "_model_module_version": "1.2.0",
            "_model_name": "LayoutModel",
            "_view_count": null,
            "_view_module": "@jupyter-widgets/base",
            "_view_module_version": "1.2.0",
            "_view_name": "LayoutView",
            "align_content": null,
            "align_items": null,
            "align_self": null,
            "border": null,
            "bottom": null,
            "display": null,
            "flex": null,
            "flex_flow": null,
            "grid_area": null,
            "grid_auto_columns": null,
            "grid_auto_flow": null,
            "grid_auto_rows": null,
            "grid_column": null,
            "grid_gap": null,
            "grid_row": null,
            "grid_template_areas": null,
            "grid_template_columns": null,
            "grid_template_rows": null,
            "height": null,
            "justify_content": null,
            "justify_items": null,
            "left": null,
            "margin": null,
            "max_height": null,
            "max_width": null,
            "min_height": null,
            "min_width": null,
            "object_fit": null,
            "object_position": null,
            "order": null,
            "overflow": null,
            "overflow_x": null,
            "overflow_y": null,
            "padding": null,
            "right": null,
            "top": null,
            "visibility": null,
            "width": null
          }
        },
        "4b06ac79e6234c3187e3e135f3e33fb1": {
          "model_module": "@jupyter-widgets/base",
          "model_name": "LayoutModel",
          "model_module_version": "1.2.0",
          "state": {
            "_model_module": "@jupyter-widgets/base",
            "_model_module_version": "1.2.0",
            "_model_name": "LayoutModel",
            "_view_count": null,
            "_view_module": "@jupyter-widgets/base",
            "_view_module_version": "1.2.0",
            "_view_name": "LayoutView",
            "align_content": null,
            "align_items": null,
            "align_self": null,
            "border": null,
            "bottom": null,
            "display": null,
            "flex": null,
            "flex_flow": null,
            "grid_area": null,
            "grid_auto_columns": null,
            "grid_auto_flow": null,
            "grid_auto_rows": null,
            "grid_column": null,
            "grid_gap": null,
            "grid_row": null,
            "grid_template_areas": null,
            "grid_template_columns": null,
            "grid_template_rows": null,
            "height": null,
            "justify_content": null,
            "justify_items": null,
            "left": null,
            "margin": null,
            "max_height": null,
            "max_width": null,
            "min_height": null,
            "min_width": null,
            "object_fit": null,
            "object_position": null,
            "order": null,
            "overflow": null,
            "overflow_x": null,
            "overflow_y": null,
            "padding": null,
            "right": null,
            "top": null,
            "visibility": null,
            "width": null
          }
        },
        "2aa4d498af0444eab46cc0a02b88b5e4": {
          "model_module": "@jupyter-widgets/controls",
          "model_name": "DescriptionStyleModel",
          "model_module_version": "1.5.0",
          "state": {
            "_model_module": "@jupyter-widgets/controls",
            "_model_module_version": "1.5.0",
            "_model_name": "DescriptionStyleModel",
            "_view_count": null,
            "_view_module": "@jupyter-widgets/base",
            "_view_module_version": "1.2.0",
            "_view_name": "StyleView",
            "description_width": ""
          }
        },
        "14d0fefca3184dd38b1fe3f07f233f2c": {
          "model_module": "@jupyter-widgets/base",
          "model_name": "LayoutModel",
          "model_module_version": "1.2.0",
          "state": {
            "_model_module": "@jupyter-widgets/base",
            "_model_module_version": "1.2.0",
            "_model_name": "LayoutModel",
            "_view_count": null,
            "_view_module": "@jupyter-widgets/base",
            "_view_module_version": "1.2.0",
            "_view_name": "LayoutView",
            "align_content": null,
            "align_items": null,
            "align_self": null,
            "border": null,
            "bottom": null,
            "display": null,
            "flex": null,
            "flex_flow": null,
            "grid_area": null,
            "grid_auto_columns": null,
            "grid_auto_flow": null,
            "grid_auto_rows": null,
            "grid_column": null,
            "grid_gap": null,
            "grid_row": null,
            "grid_template_areas": null,
            "grid_template_columns": null,
            "grid_template_rows": null,
            "height": null,
            "justify_content": null,
            "justify_items": null,
            "left": null,
            "margin": null,
            "max_height": null,
            "max_width": null,
            "min_height": null,
            "min_width": null,
            "object_fit": null,
            "object_position": null,
            "order": null,
            "overflow": null,
            "overflow_x": null,
            "overflow_y": null,
            "padding": null,
            "right": null,
            "top": null,
            "visibility": null,
            "width": null
          }
        },
        "91031f7cf5184bc0bca70000c4ed7b79": {
          "model_module": "@jupyter-widgets/controls",
          "model_name": "ProgressStyleModel",
          "model_module_version": "1.5.0",
          "state": {
            "_model_module": "@jupyter-widgets/controls",
            "_model_module_version": "1.5.0",
            "_model_name": "ProgressStyleModel",
            "_view_count": null,
            "_view_module": "@jupyter-widgets/base",
            "_view_module_version": "1.2.0",
            "_view_name": "StyleView",
            "bar_color": null,
            "description_width": ""
          }
        },
        "8c9502cb413f415f9288e2911dda1f7b": {
          "model_module": "@jupyter-widgets/base",
          "model_name": "LayoutModel",
          "model_module_version": "1.2.0",
          "state": {
            "_model_module": "@jupyter-widgets/base",
            "_model_module_version": "1.2.0",
            "_model_name": "LayoutModel",
            "_view_count": null,
            "_view_module": "@jupyter-widgets/base",
            "_view_module_version": "1.2.0",
            "_view_name": "LayoutView",
            "align_content": null,
            "align_items": null,
            "align_self": null,
            "border": null,
            "bottom": null,
            "display": null,
            "flex": null,
            "flex_flow": null,
            "grid_area": null,
            "grid_auto_columns": null,
            "grid_auto_flow": null,
            "grid_auto_rows": null,
            "grid_column": null,
            "grid_gap": null,
            "grid_row": null,
            "grid_template_areas": null,
            "grid_template_columns": null,
            "grid_template_rows": null,
            "height": null,
            "justify_content": null,
            "justify_items": null,
            "left": null,
            "margin": null,
            "max_height": null,
            "max_width": null,
            "min_height": null,
            "min_width": null,
            "object_fit": null,
            "object_position": null,
            "order": null,
            "overflow": null,
            "overflow_x": null,
            "overflow_y": null,
            "padding": null,
            "right": null,
            "top": null,
            "visibility": null,
            "width": null
          }
        },
        "94d7951fd00e4e89a94f290d39aef035": {
          "model_module": "@jupyter-widgets/controls",
          "model_name": "DescriptionStyleModel",
          "model_module_version": "1.5.0",
          "state": {
            "_model_module": "@jupyter-widgets/controls",
            "_model_module_version": "1.5.0",
            "_model_name": "DescriptionStyleModel",
            "_view_count": null,
            "_view_module": "@jupyter-widgets/base",
            "_view_module_version": "1.2.0",
            "_view_name": "StyleView",
            "description_width": ""
          }
        },
        "2b27f470e6834b05b61003c76cac686a": {
          "model_module": "@jupyter-widgets/controls",
          "model_name": "HBoxModel",
          "model_module_version": "1.5.0",
          "state": {
            "_dom_classes": [],
            "_model_module": "@jupyter-widgets/controls",
            "_model_module_version": "1.5.0",
            "_model_name": "HBoxModel",
            "_view_count": null,
            "_view_module": "@jupyter-widgets/controls",
            "_view_module_version": "1.5.0",
            "_view_name": "HBoxView",
            "box_style": "",
            "children": [
              "IPY_MODEL_a9d1ff2fb89e4f83b95833535ccc0566",
              "IPY_MODEL_f80beba520984f51be1939c67ccc3d17",
              "IPY_MODEL_9f49d99f57d4450f8c80000a9f04b335"
            ],
            "layout": "IPY_MODEL_8c1ae1c9302b4f238934b059499e4a74"
          }
        },
        "a9d1ff2fb89e4f83b95833535ccc0566": {
          "model_module": "@jupyter-widgets/controls",
          "model_name": "HTMLModel",
          "model_module_version": "1.5.0",
          "state": {
            "_dom_classes": [],
            "_model_module": "@jupyter-widgets/controls",
            "_model_module_version": "1.5.0",
            "_model_name": "HTMLModel",
            "_view_count": null,
            "_view_module": "@jupyter-widgets/controls",
            "_view_module_version": "1.5.0",
            "_view_name": "HTMLView",
            "description": "",
            "description_tooltip": null,
            "layout": "IPY_MODEL_a0873dbed3b847dda83191750908d197",
            "placeholder": "​",
            "style": "IPY_MODEL_94f61014dc6a4cebb4a7e30aede6f6ba",
            "value": "Fetching 5 files: 100%"
          }
        },
        "f80beba520984f51be1939c67ccc3d17": {
          "model_module": "@jupyter-widgets/controls",
          "model_name": "FloatProgressModel",
          "model_module_version": "1.5.0",
          "state": {
            "_dom_classes": [],
            "_model_module": "@jupyter-widgets/controls",
            "_model_module_version": "1.5.0",
            "_model_name": "FloatProgressModel",
            "_view_count": null,
            "_view_module": "@jupyter-widgets/controls",
            "_view_module_version": "1.5.0",
            "_view_name": "ProgressView",
            "bar_style": "success",
            "description": "",
            "description_tooltip": null,
            "layout": "IPY_MODEL_fd336f2e139d4d4b8c4c355b510e926f",
            "max": 5,
            "min": 0,
            "orientation": "horizontal",
            "style": "IPY_MODEL_b9d766096c4346cf9f79a2593d91222f",
            "value": 5
          }
        },
        "9f49d99f57d4450f8c80000a9f04b335": {
          "model_module": "@jupyter-widgets/controls",
          "model_name": "HTMLModel",
          "model_module_version": "1.5.0",
          "state": {
            "_dom_classes": [],
            "_model_module": "@jupyter-widgets/controls",
            "_model_module_version": "1.5.0",
            "_model_name": "HTMLModel",
            "_view_count": null,
            "_view_module": "@jupyter-widgets/controls",
            "_view_module_version": "1.5.0",
            "_view_name": "HTMLView",
            "description": "",
            "description_tooltip": null,
            "layout": "IPY_MODEL_96e6787289ff45b9affe171293ce50d4",
            "placeholder": "​",
            "style": "IPY_MODEL_63a8da9ab50d4970a41e116283367b14",
            "value": " 5/5 [00:00&lt;00:00, 218.17it/s]"
          }
        },
        "8c1ae1c9302b4f238934b059499e4a74": {
          "model_module": "@jupyter-widgets/base",
          "model_name": "LayoutModel",
          "model_module_version": "1.2.0",
          "state": {
            "_model_module": "@jupyter-widgets/base",
            "_model_module_version": "1.2.0",
            "_model_name": "LayoutModel",
            "_view_count": null,
            "_view_module": "@jupyter-widgets/base",
            "_view_module_version": "1.2.0",
            "_view_name": "LayoutView",
            "align_content": null,
            "align_items": null,
            "align_self": null,
            "border": null,
            "bottom": null,
            "display": null,
            "flex": null,
            "flex_flow": null,
            "grid_area": null,
            "grid_auto_columns": null,
            "grid_auto_flow": null,
            "grid_auto_rows": null,
            "grid_column": null,
            "grid_gap": null,
            "grid_row": null,
            "grid_template_areas": null,
            "grid_template_columns": null,
            "grid_template_rows": null,
            "height": null,
            "justify_content": null,
            "justify_items": null,
            "left": null,
            "margin": null,
            "max_height": null,
            "max_width": null,
            "min_height": null,
            "min_width": null,
            "object_fit": null,
            "object_position": null,
            "order": null,
            "overflow": null,
            "overflow_x": null,
            "overflow_y": null,
            "padding": null,
            "right": null,
            "top": null,
            "visibility": null,
            "width": null
          }
        },
        "a0873dbed3b847dda83191750908d197": {
          "model_module": "@jupyter-widgets/base",
          "model_name": "LayoutModel",
          "model_module_version": "1.2.0",
          "state": {
            "_model_module": "@jupyter-widgets/base",
            "_model_module_version": "1.2.0",
            "_model_name": "LayoutModel",
            "_view_count": null,
            "_view_module": "@jupyter-widgets/base",
            "_view_module_version": "1.2.0",
            "_view_name": "LayoutView",
            "align_content": null,
            "align_items": null,
            "align_self": null,
            "border": null,
            "bottom": null,
            "display": null,
            "flex": null,
            "flex_flow": null,
            "grid_area": null,
            "grid_auto_columns": null,
            "grid_auto_flow": null,
            "grid_auto_rows": null,
            "grid_column": null,
            "grid_gap": null,
            "grid_row": null,
            "grid_template_areas": null,
            "grid_template_columns": null,
            "grid_template_rows": null,
            "height": null,
            "justify_content": null,
            "justify_items": null,
            "left": null,
            "margin": null,
            "max_height": null,
            "max_width": null,
            "min_height": null,
            "min_width": null,
            "object_fit": null,
            "object_position": null,
            "order": null,
            "overflow": null,
            "overflow_x": null,
            "overflow_y": null,
            "padding": null,
            "right": null,
            "top": null,
            "visibility": null,
            "width": null
          }
        },
        "94f61014dc6a4cebb4a7e30aede6f6ba": {
          "model_module": "@jupyter-widgets/controls",
          "model_name": "DescriptionStyleModel",
          "model_module_version": "1.5.0",
          "state": {
            "_model_module": "@jupyter-widgets/controls",
            "_model_module_version": "1.5.0",
            "_model_name": "DescriptionStyleModel",
            "_view_count": null,
            "_view_module": "@jupyter-widgets/base",
            "_view_module_version": "1.2.0",
            "_view_name": "StyleView",
            "description_width": ""
          }
        },
        "fd336f2e139d4d4b8c4c355b510e926f": {
          "model_module": "@jupyter-widgets/base",
          "model_name": "LayoutModel",
          "model_module_version": "1.2.0",
          "state": {
            "_model_module": "@jupyter-widgets/base",
            "_model_module_version": "1.2.0",
            "_model_name": "LayoutModel",
            "_view_count": null,
            "_view_module": "@jupyter-widgets/base",
            "_view_module_version": "1.2.0",
            "_view_name": "LayoutView",
            "align_content": null,
            "align_items": null,
            "align_self": null,
            "border": null,
            "bottom": null,
            "display": null,
            "flex": null,
            "flex_flow": null,
            "grid_area": null,
            "grid_auto_columns": null,
            "grid_auto_flow": null,
            "grid_auto_rows": null,
            "grid_column": null,
            "grid_gap": null,
            "grid_row": null,
            "grid_template_areas": null,
            "grid_template_columns": null,
            "grid_template_rows": null,
            "height": null,
            "justify_content": null,
            "justify_items": null,
            "left": null,
            "margin": null,
            "max_height": null,
            "max_width": null,
            "min_height": null,
            "min_width": null,
            "object_fit": null,
            "object_position": null,
            "order": null,
            "overflow": null,
            "overflow_x": null,
            "overflow_y": null,
            "padding": null,
            "right": null,
            "top": null,
            "visibility": null,
            "width": null
          }
        },
        "b9d766096c4346cf9f79a2593d91222f": {
          "model_module": "@jupyter-widgets/controls",
          "model_name": "ProgressStyleModel",
          "model_module_version": "1.5.0",
          "state": {
            "_model_module": "@jupyter-widgets/controls",
            "_model_module_version": "1.5.0",
            "_model_name": "ProgressStyleModel",
            "_view_count": null,
            "_view_module": "@jupyter-widgets/base",
            "_view_module_version": "1.2.0",
            "_view_name": "StyleView",
            "bar_color": null,
            "description_width": ""
          }
        },
        "96e6787289ff45b9affe171293ce50d4": {
          "model_module": "@jupyter-widgets/base",
          "model_name": "LayoutModel",
          "model_module_version": "1.2.0",
          "state": {
            "_model_module": "@jupyter-widgets/base",
            "_model_module_version": "1.2.0",
            "_model_name": "LayoutModel",
            "_view_count": null,
            "_view_module": "@jupyter-widgets/base",
            "_view_module_version": "1.2.0",
            "_view_name": "LayoutView",
            "align_content": null,
            "align_items": null,
            "align_self": null,
            "border": null,
            "bottom": null,
            "display": null,
            "flex": null,
            "flex_flow": null,
            "grid_area": null,
            "grid_auto_columns": null,
            "grid_auto_flow": null,
            "grid_auto_rows": null,
            "grid_column": null,
            "grid_gap": null,
            "grid_row": null,
            "grid_template_areas": null,
            "grid_template_columns": null,
            "grid_template_rows": null,
            "height": null,
            "justify_content": null,
            "justify_items": null,
            "left": null,
            "margin": null,
            "max_height": null,
            "max_width": null,
            "min_height": null,
            "min_width": null,
            "object_fit": null,
            "object_position": null,
            "order": null,
            "overflow": null,
            "overflow_x": null,
            "overflow_y": null,
            "padding": null,
            "right": null,
            "top": null,
            "visibility": null,
            "width": null
          }
        },
        "63a8da9ab50d4970a41e116283367b14": {
          "model_module": "@jupyter-widgets/controls",
          "model_name": "DescriptionStyleModel",
          "model_module_version": "1.5.0",
          "state": {
            "_model_module": "@jupyter-widgets/controls",
            "_model_module_version": "1.5.0",
            "_model_name": "DescriptionStyleModel",
            "_view_count": null,
            "_view_module": "@jupyter-widgets/base",
            "_view_module_version": "1.2.0",
            "_view_name": "StyleView",
            "description_width": ""
          }
        },
        "12cb1130fd6442518e4cac1deadcb7b4": {
          "model_module": "@jupyter-widgets/controls",
          "model_name": "HBoxModel",
          "model_module_version": "1.5.0",
          "state": {
            "_dom_classes": [],
            "_model_module": "@jupyter-widgets/controls",
            "_model_module_version": "1.5.0",
            "_model_name": "HBoxModel",
            "_view_count": null,
            "_view_module": "@jupyter-widgets/controls",
            "_view_module_version": "1.5.0",
            "_view_name": "HBoxView",
            "box_style": "",
            "children": [
              "IPY_MODEL_70f61704fb9e47b2a3422ed7dda677d0",
              "IPY_MODEL_7ddb53292db845c3b492cd0d2db2d6df",
              "IPY_MODEL_f281ee48f9b6444faf3a76f45125fe4b"
            ],
            "layout": "IPY_MODEL_6b619412e218454ba3a502d40eac30a4"
          }
        },
        "70f61704fb9e47b2a3422ed7dda677d0": {
          "model_module": "@jupyter-widgets/controls",
          "model_name": "HTMLModel",
          "model_module_version": "1.5.0",
          "state": {
            "_dom_classes": [],
            "_model_module": "@jupyter-widgets/controls",
            "_model_module_version": "1.5.0",
            "_model_name": "HTMLModel",
            "_view_count": null,
            "_view_module": "@jupyter-widgets/controls",
            "_view_module_version": "1.5.0",
            "_view_name": "HTMLView",
            "description": "",
            "description_tooltip": null,
            "layout": "IPY_MODEL_7239ccb60bc649b7aaa13e44cc286322",
            "placeholder": "​",
            "style": "IPY_MODEL_2be957163ccb4a9484d19199b9759577",
            "value": "Fetching 5 files: 100%"
          }
        },
        "7ddb53292db845c3b492cd0d2db2d6df": {
          "model_module": "@jupyter-widgets/controls",
          "model_name": "FloatProgressModel",
          "model_module_version": "1.5.0",
          "state": {
            "_dom_classes": [],
            "_model_module": "@jupyter-widgets/controls",
            "_model_module_version": "1.5.0",
            "_model_name": "FloatProgressModel",
            "_view_count": null,
            "_view_module": "@jupyter-widgets/controls",
            "_view_module_version": "1.5.0",
            "_view_name": "ProgressView",
            "bar_style": "success",
            "description": "",
            "description_tooltip": null,
            "layout": "IPY_MODEL_8bdfe51fb5424994be1a51c7215491bd",
            "max": 5,
            "min": 0,
            "orientation": "horizontal",
            "style": "IPY_MODEL_1688a8f704274a00a8642ea7be7119dd",
            "value": 5
          }
        },
        "f281ee48f9b6444faf3a76f45125fe4b": {
          "model_module": "@jupyter-widgets/controls",
          "model_name": "HTMLModel",
          "model_module_version": "1.5.0",
          "state": {
            "_dom_classes": [],
            "_model_module": "@jupyter-widgets/controls",
            "_model_module_version": "1.5.0",
            "_model_name": "HTMLModel",
            "_view_count": null,
            "_view_module": "@jupyter-widgets/controls",
            "_view_module_version": "1.5.0",
            "_view_name": "HTMLView",
            "description": "",
            "description_tooltip": null,
            "layout": "IPY_MODEL_ad6a4d737cdb42368e9d3e43bc24e18c",
            "placeholder": "​",
            "style": "IPY_MODEL_dfb28a826e294a9f8df4cd80c486c10b",
            "value": " 5/5 [00:00&lt;00:00, 160.36it/s]"
          }
        },
        "6b619412e218454ba3a502d40eac30a4": {
          "model_module": "@jupyter-widgets/base",
          "model_name": "LayoutModel",
          "model_module_version": "1.2.0",
          "state": {
            "_model_module": "@jupyter-widgets/base",
            "_model_module_version": "1.2.0",
            "_model_name": "LayoutModel",
            "_view_count": null,
            "_view_module": "@jupyter-widgets/base",
            "_view_module_version": "1.2.0",
            "_view_name": "LayoutView",
            "align_content": null,
            "align_items": null,
            "align_self": null,
            "border": null,
            "bottom": null,
            "display": null,
            "flex": null,
            "flex_flow": null,
            "grid_area": null,
            "grid_auto_columns": null,
            "grid_auto_flow": null,
            "grid_auto_rows": null,
            "grid_column": null,
            "grid_gap": null,
            "grid_row": null,
            "grid_template_areas": null,
            "grid_template_columns": null,
            "grid_template_rows": null,
            "height": null,
            "justify_content": null,
            "justify_items": null,
            "left": null,
            "margin": null,
            "max_height": null,
            "max_width": null,
            "min_height": null,
            "min_width": null,
            "object_fit": null,
            "object_position": null,
            "order": null,
            "overflow": null,
            "overflow_x": null,
            "overflow_y": null,
            "padding": null,
            "right": null,
            "top": null,
            "visibility": null,
            "width": null
          }
        },
        "7239ccb60bc649b7aaa13e44cc286322": {
          "model_module": "@jupyter-widgets/base",
          "model_name": "LayoutModel",
          "model_module_version": "1.2.0",
          "state": {
            "_model_module": "@jupyter-widgets/base",
            "_model_module_version": "1.2.0",
            "_model_name": "LayoutModel",
            "_view_count": null,
            "_view_module": "@jupyter-widgets/base",
            "_view_module_version": "1.2.0",
            "_view_name": "LayoutView",
            "align_content": null,
            "align_items": null,
            "align_self": null,
            "border": null,
            "bottom": null,
            "display": null,
            "flex": null,
            "flex_flow": null,
            "grid_area": null,
            "grid_auto_columns": null,
            "grid_auto_flow": null,
            "grid_auto_rows": null,
            "grid_column": null,
            "grid_gap": null,
            "grid_row": null,
            "grid_template_areas": null,
            "grid_template_columns": null,
            "grid_template_rows": null,
            "height": null,
            "justify_content": null,
            "justify_items": null,
            "left": null,
            "margin": null,
            "max_height": null,
            "max_width": null,
            "min_height": null,
            "min_width": null,
            "object_fit": null,
            "object_position": null,
            "order": null,
            "overflow": null,
            "overflow_x": null,
            "overflow_y": null,
            "padding": null,
            "right": null,
            "top": null,
            "visibility": null,
            "width": null
          }
        },
        "2be957163ccb4a9484d19199b9759577": {
          "model_module": "@jupyter-widgets/controls",
          "model_name": "DescriptionStyleModel",
          "model_module_version": "1.5.0",
          "state": {
            "_model_module": "@jupyter-widgets/controls",
            "_model_module_version": "1.5.0",
            "_model_name": "DescriptionStyleModel",
            "_view_count": null,
            "_view_module": "@jupyter-widgets/base",
            "_view_module_version": "1.2.0",
            "_view_name": "StyleView",
            "description_width": ""
          }
        },
        "8bdfe51fb5424994be1a51c7215491bd": {
          "model_module": "@jupyter-widgets/base",
          "model_name": "LayoutModel",
          "model_module_version": "1.2.0",
          "state": {
            "_model_module": "@jupyter-widgets/base",
            "_model_module_version": "1.2.0",
            "_model_name": "LayoutModel",
            "_view_count": null,
            "_view_module": "@jupyter-widgets/base",
            "_view_module_version": "1.2.0",
            "_view_name": "LayoutView",
            "align_content": null,
            "align_items": null,
            "align_self": null,
            "border": null,
            "bottom": null,
            "display": null,
            "flex": null,
            "flex_flow": null,
            "grid_area": null,
            "grid_auto_columns": null,
            "grid_auto_flow": null,
            "grid_auto_rows": null,
            "grid_column": null,
            "grid_gap": null,
            "grid_row": null,
            "grid_template_areas": null,
            "grid_template_columns": null,
            "grid_template_rows": null,
            "height": null,
            "justify_content": null,
            "justify_items": null,
            "left": null,
            "margin": null,
            "max_height": null,
            "max_width": null,
            "min_height": null,
            "min_width": null,
            "object_fit": null,
            "object_position": null,
            "order": null,
            "overflow": null,
            "overflow_x": null,
            "overflow_y": null,
            "padding": null,
            "right": null,
            "top": null,
            "visibility": null,
            "width": null
          }
        },
        "1688a8f704274a00a8642ea7be7119dd": {
          "model_module": "@jupyter-widgets/controls",
          "model_name": "ProgressStyleModel",
          "model_module_version": "1.5.0",
          "state": {
            "_model_module": "@jupyter-widgets/controls",
            "_model_module_version": "1.5.0",
            "_model_name": "ProgressStyleModel",
            "_view_count": null,
            "_view_module": "@jupyter-widgets/base",
            "_view_module_version": "1.2.0",
            "_view_name": "StyleView",
            "bar_color": null,
            "description_width": ""
          }
        },
        "ad6a4d737cdb42368e9d3e43bc24e18c": {
          "model_module": "@jupyter-widgets/base",
          "model_name": "LayoutModel",
          "model_module_version": "1.2.0",
          "state": {
            "_model_module": "@jupyter-widgets/base",
            "_model_module_version": "1.2.0",
            "_model_name": "LayoutModel",
            "_view_count": null,
            "_view_module": "@jupyter-widgets/base",
            "_view_module_version": "1.2.0",
            "_view_name": "LayoutView",
            "align_content": null,
            "align_items": null,
            "align_self": null,
            "border": null,
            "bottom": null,
            "display": null,
            "flex": null,
            "flex_flow": null,
            "grid_area": null,
            "grid_auto_columns": null,
            "grid_auto_flow": null,
            "grid_auto_rows": null,
            "grid_column": null,
            "grid_gap": null,
            "grid_row": null,
            "grid_template_areas": null,
            "grid_template_columns": null,
            "grid_template_rows": null,
            "height": null,
            "justify_content": null,
            "justify_items": null,
            "left": null,
            "margin": null,
            "max_height": null,
            "max_width": null,
            "min_height": null,
            "min_width": null,
            "object_fit": null,
            "object_position": null,
            "order": null,
            "overflow": null,
            "overflow_x": null,
            "overflow_y": null,
            "padding": null,
            "right": null,
            "top": null,
            "visibility": null,
            "width": null
          }
        },
        "dfb28a826e294a9f8df4cd80c486c10b": {
          "model_module": "@jupyter-widgets/controls",
          "model_name": "DescriptionStyleModel",
          "model_module_version": "1.5.0",
          "state": {
            "_model_module": "@jupyter-widgets/controls",
            "_model_module_version": "1.5.0",
            "_model_name": "DescriptionStyleModel",
            "_view_count": null,
            "_view_module": "@jupyter-widgets/base",
            "_view_module_version": "1.2.0",
            "_view_name": "StyleView",
            "description_width": ""
          }
        }
      }
    }
  },
  "cells": [
    {
      "cell_type": "markdown",
      "source": [
        "<h1><b> 🗣️ Traductor Subtítols VTT amb el model AINA 🗣️ </h1></b>\n",
        "\n",
        "---\n",
        "\n"
      ],
      "metadata": {
        "id": "zD3nYZQr1hXj"
      }
    },
    {
      "cell_type": "markdown",
      "source": [
        "```\n",
        "# Copyright (c) Huilin Ni, https://www.linkedin.com/in/huilin-ni-71511b215/, [2024]\n",
        "```\n",
        "\n"
      ],
      "metadata": {
        "id": "aiZy3WvbHnyB"
      }
    },
    {
      "cell_type": "markdown",
      "source": [
        "## **1. Preparació de l'entorn de treball**"
      ],
      "metadata": {
        "id": "XNgVKXAr2dcA"
      }
    },
    {
      "cell_type": "markdown",
      "source": [
        "### 1.1. Instal·lació dels paquets"
      ],
      "metadata": {
        "id": "IvNJbR-y2zDy"
      }
    },
    {
      "cell_type": "code",
      "execution_count": null,
      "metadata": {
        "colab": {
          "base_uri": "https://localhost:8080/"
        },
        "id": "d7qBtdLo1YGp",
        "outputId": "c3fde717-bda8-4af6-db0f-0f0bec5778f2"
      },
      "outputs": [
        {
          "output_type": "stream",
          "name": "stdout",
          "text": [
            "Collecting ctranslate2\n",
            "  Downloading ctranslate2-4.1.0-cp310-cp310-manylinux_2_17_x86_64.manylinux2014_x86_64.whl (36.7 MB)\n",
            "\u001b[2K     \u001b[90m━━━━━━━━━━━━━━━━━━━━━━━━━━━━━━━━━━━━━━━━\u001b[0m \u001b[32m36.7/36.7 MB\u001b[0m \u001b[31m10.7 MB/s\u001b[0m eta \u001b[36m0:00:00\u001b[0m\n",
            "\u001b[?25hCollecting pyonmttok\n",
            "  Downloading pyonmttok-1.37.1-cp310-cp310-manylinux_2_17_x86_64.manylinux2014_x86_64.whl (17.0 MB)\n",
            "\u001b[2K     \u001b[90m━━━━━━━━━━━━━━━━━━━━━━━━━━━━━━━━━━━━━━━━\u001b[0m \u001b[32m17.0/17.0 MB\u001b[0m \u001b[31m26.8 MB/s\u001b[0m eta \u001b[36m0:00:00\u001b[0m\n",
            "\u001b[?25hRequirement already satisfied: setuptools in /usr/local/lib/python3.10/dist-packages (from ctranslate2) (67.7.2)\n",
            "Requirement already satisfied: numpy in /usr/local/lib/python3.10/dist-packages (from ctranslate2) (1.25.2)\n",
            "Requirement already satisfied: pyyaml<7,>=5.3 in /usr/local/lib/python3.10/dist-packages (from ctranslate2) (6.0.1)\n",
            "Installing collected packages: pyonmttok, ctranslate2\n",
            "Successfully installed ctranslate2-4.1.0 pyonmttok-1.37.1\n",
            "Requirement already satisfied: tqdm in /usr/local/lib/python3.10/dist-packages (4.66.2)\n"
          ]
        }
      ],
      "source": [
        "!pip install ctranslate2 pyonmttok\n",
        "# !pip install alive-progress\n",
        "!pip install tqdm"
      ]
    },
    {
      "cell_type": "markdown",
      "source": [
        "### 1.2. Mount per carregar les carpetes del Drive"
      ],
      "metadata": {
        "id": "TG9YXnde29OY"
      }
    },
    {
      "cell_type": "code",
      "source": [
        "from google.colab import drive\n",
        "drive.mount('/content/drive', force_remount=True)"
      ],
      "metadata": {
        "id": "WAInPEc-3CeU",
        "colab": {
          "base_uri": "https://localhost:8080/"
        },
        "outputId": "c0856861-6033-4263-f92a-da5586972ab2"
      },
      "execution_count": null,
      "outputs": [
        {
          "output_type": "stream",
          "name": "stdout",
          "text": [
            "Mounted at /content/drive\n"
          ]
        }
      ]
    },
    {
      "cell_type": "markdown",
      "source": [
        "### 1.3. Imports dels paquets que es fan servir"
      ],
      "metadata": {
        "id": "Gr_4N7fb3Dvq"
      }
    },
    {
      "cell_type": "code",
      "source": [
        "import os\n",
        "import torch\n",
        "import ctranslate2\n",
        "import pyonmttok\n",
        "\n",
        "# La funció \"snapshot_download\" ens permet descarregar models de Hugging Face Model Hub\n",
        "from huggingface_hub import snapshot_download\n",
        "# from alive_progress import alive_bar\n",
        "from tqdm import tqdm"
      ],
      "metadata": {
        "id": "TBMpHoMx3ISg"
      },
      "execution_count": null,
      "outputs": []
    },
    {
      "cell_type": "markdown",
      "source": [
        "### 1.4. Executar a la GPU en cas que estigui disponible"
      ],
      "metadata": {
        "id": "zS17iP66Gce8"
      }
    },
    {
      "cell_type": "code",
      "source": [
        "# Comprovem si està disponible\n",
        "device = torch.device(\"cuda:0\" if torch.cuda.is_available() else \"cpu\")\n",
        "print(device)"
      ],
      "metadata": {
        "id": "Al3JPu6kGX6T",
        "colab": {
          "base_uri": "https://localhost:8080/"
        },
        "outputId": "2d3b327d-11e8-427a-e243-cd27fe83988d"
      },
      "execution_count": null,
      "outputs": [
        {
          "output_type": "stream",
          "name": "stdout",
          "text": [
            "cpu\n"
          ]
        }
      ]
    },
    {
      "cell_type": "markdown",
      "source": [
        "## **2. Carreguem el model d'AINA**"
      ],
      "metadata": {
        "id": "Un16ry1h3sKC"
      }
    },
    {
      "cell_type": "code",
      "source": [
        "# Descarreguem el model català-espanyol\n",
        "model_ca_es = snapshot_download(repo_id=\"projecte-aina/aina-translator-ca-es\", revision=\"main\")\n",
        "\n",
        "# Descarreguem el model català-anglès\n",
        "model_ca_en = snapshot_download(repo_id=\"projecte-aina/aina-translator-ca-en\", revision=\"main\")\n",
        "\n",
        "# Descarreguem el model espanyol-català\n",
        "model_es_ca = snapshot_download(repo_id=\"projecte-aina/aina-translator-es-ca\", revision=\"main\")"
      ],
      "metadata": {
        "id": "i0KZ9Tp_3zMT",
        "colab": {
          "base_uri": "https://localhost:8080/",
          "height": 113,
          "referenced_widgets": [
            "a57c7889d3b64a54ad4ca279fa0c7b61",
            "48c2363a9a604514aa5f7e945c5644c2",
            "f82903a39a74459296828227d399accf",
            "7a02a7891c8646b2afb836ab488ac77d",
            "2cd4ffd82641489594467a8ea51f9212",
            "4b06ac79e6234c3187e3e135f3e33fb1",
            "2aa4d498af0444eab46cc0a02b88b5e4",
            "14d0fefca3184dd38b1fe3f07f233f2c",
            "91031f7cf5184bc0bca70000c4ed7b79",
            "8c9502cb413f415f9288e2911dda1f7b",
            "94d7951fd00e4e89a94f290d39aef035",
            "2b27f470e6834b05b61003c76cac686a",
            "a9d1ff2fb89e4f83b95833535ccc0566",
            "f80beba520984f51be1939c67ccc3d17",
            "9f49d99f57d4450f8c80000a9f04b335",
            "8c1ae1c9302b4f238934b059499e4a74",
            "a0873dbed3b847dda83191750908d197",
            "94f61014dc6a4cebb4a7e30aede6f6ba",
            "fd336f2e139d4d4b8c4c355b510e926f",
            "b9d766096c4346cf9f79a2593d91222f",
            "96e6787289ff45b9affe171293ce50d4",
            "63a8da9ab50d4970a41e116283367b14",
            "12cb1130fd6442518e4cac1deadcb7b4",
            "70f61704fb9e47b2a3422ed7dda677d0",
            "7ddb53292db845c3b492cd0d2db2d6df",
            "f281ee48f9b6444faf3a76f45125fe4b",
            "6b619412e218454ba3a502d40eac30a4",
            "7239ccb60bc649b7aaa13e44cc286322",
            "2be957163ccb4a9484d19199b9759577",
            "8bdfe51fb5424994be1a51c7215491bd",
            "1688a8f704274a00a8642ea7be7119dd",
            "ad6a4d737cdb42368e9d3e43bc24e18c",
            "dfb28a826e294a9f8df4cd80c486c10b"
          ]
        },
        "outputId": "99a697a1-f620-4cf6-a1dc-6f7964062998"
      },
      "execution_count": 16,
      "outputs": [
        {
          "output_type": "display_data",
          "data": {
            "text/plain": [
              "Fetching 5 files:   0%|          | 0/5 [00:00<?, ?it/s]"
            ],
            "application/vnd.jupyter.widget-view+json": {
              "version_major": 2,
              "version_minor": 0,
              "model_id": "a57c7889d3b64a54ad4ca279fa0c7b61"
            }
          },
          "metadata": {}
        },
        {
          "output_type": "display_data",
          "data": {
            "text/plain": [
              "Fetching 5 files:   0%|          | 0/5 [00:00<?, ?it/s]"
            ],
            "application/vnd.jupyter.widget-view+json": {
              "version_major": 2,
              "version_minor": 0,
              "model_id": "2b27f470e6834b05b61003c76cac686a"
            }
          },
          "metadata": {}
        },
        {
          "output_type": "display_data",
          "data": {
            "text/plain": [
              "Fetching 5 files:   0%|          | 0/5 [00:00<?, ?it/s]"
            ],
            "application/vnd.jupyter.widget-view+json": {
              "version_major": 2,
              "version_minor": 0,
              "model_id": "12cb1130fd6442518e4cac1deadcb7b4"
            }
          },
          "metadata": {}
        }
      ]
    },
    {
      "cell_type": "code",
      "source": [
        "# Creem el tokenitzador pels models\n",
        "tokenizer_ca_es = pyonmttok.Tokenizer(mode=\"none\", sp_model_path = model_ca_es + \"/spm.model\")\n",
        "tokenizer_ca_en = pyonmttok.Tokenizer(mode=\"none\", sp_model_path = model_ca_en + \"/spm.model\")\n",
        "tokenizer_es_ca = pyonmttok.Tokenizer(mode=\"none\", sp_model_path = model_es_ca + \"/spm.model\")\n",
        "\n",
        "# Carreguem els models de traducció\n",
        "translator_ca_es = ctranslate2.Translator(model_ca_es)\n",
        "translator_ca_en = ctranslate2.Translator(model_ca_en)\n",
        "translator_es_ca = ctranslate2.Translator(model_es_ca)"
      ],
      "metadata": {
        "id": "6T5EUJkGGFRP"
      },
      "execution_count": null,
      "outputs": []
    },
    {
      "cell_type": "markdown",
      "source": [
        "## **3. Definició de funcions**"
      ],
      "metadata": {
        "id": "iEJMSq2iJnul"
      }
    },
    {
      "cell_type": "code",
      "source": [
        "# Funció per trobar els fitxers VTT d'una path\n",
        "def collect_vtt_files(folder_path):\n",
        "    vtt_files = []\n",
        "    for root, dirs, files in os.walk(folder_path):\n",
        "        for file_name in files:\n",
        "            if file_name.endswith(\"SubtCA-rev.vtt\") or file_name.endswith(\"SubtES-rev.vtt\"):\n",
        "                vtt_files.append((root, file_name))\n",
        "    return vtt_files\n",
        "\n",
        "\n",
        "# Funció que tradueix els fitxers vtt\n",
        "def translate_vtt_file(input_file, output_file, language):\n",
        "\n",
        "    # Determinem a quins idiomes es poden fer les traduccions depenent de l'input\n",
        "    if input_file.endswith(\"SubtCA-rev.vtt\"):\n",
        "        available_languages = [\"es\", \"en\"]\n",
        "    elif input_file.endswith(\"SubtES-rev.vtt\"):\n",
        "        available_languages = [\"ca\"]\n",
        "    else:\n",
        "        raise ValueError(\"Unsupported file format\")\n",
        "\n",
        "    if language not in available_languages:\n",
        "        raise ValueError(f\"Unsupported target language. Available languages: {', '.join(available_languages)}\")\n",
        "\n",
        "    # Carreguem el traductor i el tokenizer segons l'idioma de target\n",
        "    if input_file.endswith(\"SubtCA-rev.vtt\"):\n",
        "        if language == \"es\":\n",
        "            translator = translator_ca_es\n",
        "            tokenizer = tokenizer_ca_es\n",
        "        elif language == \"en\":\n",
        "            translator = translator_ca_en\n",
        "            tokenizer = tokenizer_ca_en\n",
        "    elif input_file.endswith(\"SubtES-rev.vtt\"):\n",
        "        if language == \"ca\":\n",
        "            translator = translator_es_ca\n",
        "            tokenizer = tokenizer_es_ca\n",
        "\n",
        "    # Llegim el contingut de l'arxiu VTT\n",
        "    with open(input_file, 'r', encoding='utf-8') as f:\n",
        "        vtt_content = f.read()\n",
        "\n",
        "    # Dividim el contingut en línies\n",
        "    lines = vtt_content.split('\\n')\n",
        "    # print(lines)\n",
        "\n",
        "    # Traduïm cada línea (excloent la línia del temps) i els espais buits\n",
        "    translated_lines = []\n",
        "    input_filename = os.path.basename(input_file)\n",
        "\n",
        "    # Inicialitzem la barra del progrés\n",
        "    progress_bar = tqdm(total=len(lines), desc=f\"Translating {input_filename} to {language.upper()}\", position=0, leave=True)\n",
        "\n",
        "    for line in lines:\n",
        "        if '-->' in line:  # Conservem la línia de temps sense traduir\n",
        "            translated_lines.append(line)\n",
        "        elif line == '':  # línies buides, els salts de línia\n",
        "            translated_lines.append(line)\n",
        "        else:\n",
        "            tokenized = tokenizer.tokenize(line)\n",
        "            translated = translator.translate_batch([tokenized[0]])\n",
        "            translated_text = tokenizer.detokenize(translated[0][0]['tokens'])\n",
        "            # print(f\"\\n {translated_text}\")\n",
        "            translated_lines.append(translated_text)\n",
        "        progress_bar.update(1)\n",
        "\n",
        "    # print(translated_lines)\n",
        "\n",
        "    # Escribim les línies traduïdes a l'arxiu d'output\n",
        "    with open(output_file, 'w', encoding='utf-8') as f:\n",
        "        f.write('\\n'.join(translated_lines))\n",
        "\n",
        "\n",
        "# Funció que s'encarrega de reanomenar el fitxer d'output i crida a la funció que tradueix\n",
        "def translate_and_save_vtt_file(vtt_files, target_language):\n",
        "    for root, file_name in vtt_files:\n",
        "        input_file = os.path.join(root, file_name)\n",
        "        # print(input_file)\n",
        "        input_filename = os.path.basename(input_file)\n",
        "\n",
        "        # Iterem per fer la traducció als idiomes especificats\n",
        "        for language in target_language:\n",
        "            output_file = input_file.replace(\"CA\", f\"{language.upper()}\")\n",
        "            # print(output_file)\n",
        "            translate_vtt_file(input_file, output_file, language)\n",
        "            output_filename = os.path.basename(output_file)\n",
        "\n",
        "            print(f\"\\n File '{input_filename}' has been translated to '{language.upper()} and has been saved as '{output_filename}' in {output_file}. \\n\")\n",
        "\n",
        "    print(\"\\n Translation process finished. \\n\")"
      ],
      "metadata": {
        "id": "pQ9zR0ZGJsZv"
      },
      "execution_count": 14,
      "outputs": []
    },
    {
      "cell_type": "markdown",
      "source": [
        "## **4. Declaració dels paràmetres globals**"
      ],
      "metadata": {
        "id": "w8Lv4HHAU5Ac"
      }
    },
    {
      "cell_type": "code",
      "source": [
        "# Path del directori\n",
        "folder_path = \"/content/drive/MyDrive/2023-2024TopRosiesTalent3aed/OperacioInternacionalitzacio/videosTRT3aed/01_Introduction and ethics of AI/Chapter 1 - Introduction to AI/Lesson 1. The Concept of AI/1Darmouth\"\n",
        "\n",
        "# Idioma al que es vol traduir. Opcions: \"es\" - espanyol, \"en\" - anglès, \"ca\" - català\n",
        "target_language = [\"es\", \"en\"]"
      ],
      "metadata": {
        "id": "VYHldBfTU2Pb"
      },
      "execution_count": null,
      "outputs": []
    },
    {
      "cell_type": "markdown",
      "source": [
        "## **5. Execució del procés**"
      ],
      "metadata": {
        "id": "tUxmmJ8vVUR_"
      }
    },
    {
      "cell_type": "code",
      "source": [
        "vtt_files = collect_vtt_files(folder_path)\n",
        "# print(vtt_files)\n",
        "translate_and_save_vtt_file(vtt_files, target_language)"
      ],
      "metadata": {
        "id": "SnqzU8gQVZEO",
        "colab": {
          "base_uri": "https://localhost:8080/"
        },
        "outputId": "65708ba8-4b57-4bd9-f8f1-115a373356fe"
      },
      "execution_count": 15,
      "outputs": [
        {
          "output_type": "stream",
          "name": "stderr",
          "text": [
            "Translating 1DarmouthSubtCA-rev.vtt to ES:   0%|          | 0/82 [00:00<?, ?it/s]<ipython-input-14-59afc3f70a2f>:61: DeprecationWarning: Reading the TranslationResult object as a list of dictionaries is deprecated and will be removed in a future version. Please use the object attributes as described in the documentation: https://opennmt.net/CTranslate2/python/ctranslate2.TranslationResult.html\n",
            "  translated_text = tokenizer.detokenize(translated[0][0]['tokens'])\n",
            "Translating 1DarmouthSubtCA-rev.vtt to ES: 100%|██████████| 82/82 [00:46<00:00,  1.78it/s]\n"
          ]
        },
        {
          "output_type": "stream",
          "name": "stdout",
          "text": [
            "\n",
            " File '1DarmouthSubtCA-rev.vtt' has been translated to 'ES and has been saved as '1DarmouthSubtES-rev.vtt' in /content/drive/MyDrive/2023-2024TopRosiesTalent3aed/OperacioInternacionalitzacio/videosTRT3aed/01_Introduction and ethics of AI/Chapter 1 - Introduction to AI/Lesson 1. The Concept of AI/1Darmouth/1DarmouthVTTrevisats/1DarmouthSubtES-rev.vtt. \n",
            "\n"
          ]
        },
        {
          "output_type": "stream",
          "name": "stderr",
          "text": [
            "Translating 1DarmouthSubtCA-rev.vtt to EN: 100%|██████████| 82/82 [00:52<00:00,  1.56it/s]"
          ]
        },
        {
          "output_type": "stream",
          "name": "stdout",
          "text": [
            "\n",
            " File '1DarmouthSubtCA-rev.vtt' has been translated to 'EN and has been saved as '1DarmouthSubtEN-rev.vtt' in /content/drive/MyDrive/2023-2024TopRosiesTalent3aed/OperacioInternacionalitzacio/videosTRT3aed/01_Introduction and ethics of AI/Chapter 1 - Introduction to AI/Lesson 1. The Concept of AI/1Darmouth/1DarmouthVTTrevisats/1DarmouthSubtEN-rev.vtt. \n",
            "\n",
            "\n",
            " Translation process finished. \n",
            "\n"
          ]
        },
        {
          "output_type": "stream",
          "name": "stderr",
          "text": [
            "\n"
          ]
        }
      ]
    }
  ]
}